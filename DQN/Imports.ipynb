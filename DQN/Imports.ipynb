{
 "cells": [
  {
   "cell_type": "code",
   "execution_count": 2,
   "metadata": {},
   "outputs": [
    {
     "name": "stdout",
     "output_type": "stream",
     "text": [
      "Defaulting to user installation because normal site-packages is not writeable\n",
      "Requirement already satisfied: gym[atari] in /home/ugrads/majors/sungmin/.local/lib/python3.11/site-packages (0.26.2)\n",
      "Requirement already satisfied: numpy>=1.18.0 in /home/ugrads/majors/sungmin/.local/lib/python3.11/site-packages (from gym[atari]) (1.23.5)\n",
      "Requirement already satisfied: cloudpickle>=1.2.0 in /home/ugrads/majors/sungmin/.local/lib/python3.11/site-packages (from gym[atari]) (2.2.1)\n",
      "Requirement already satisfied: gym-notices>=0.0.4 in /home/ugrads/majors/sungmin/.local/lib/python3.11/site-packages (from gym[atari]) (0.0.8)\n",
      "Requirement already satisfied: ale-py~=0.8.0 in /home/ugrads/majors/sungmin/.local/lib/python3.11/site-packages (from gym[atari]) (0.8.1)\n",
      "Requirement already satisfied: importlib-resources in /home/ugrads/majors/sungmin/.local/lib/python3.11/site-packages (from ale-py~=0.8.0->gym[atari]) (5.12.0)\n",
      "Note: you may need to restart the kernel to use updated packages.\n",
      "Defaulting to user installation because normal site-packages is not writeable\n",
      "Requirement already satisfied: autorom[accept-rom-license] in /home/ugrads/majors/sungmin/.local/lib/python3.11/site-packages (0.6.1)\n",
      "Requirement already satisfied: click in /home/ugrads/majors/sungmin/.local/lib/python3.11/site-packages (from autorom[accept-rom-license]) (8.1.3)\n",
      "Requirement already satisfied: requests in /home/ugrads/majors/sungmin/.local/lib/python3.11/site-packages (from autorom[accept-rom-license]) (2.28.2)\n",
      "Requirement already satisfied: AutoROM.accept-rom-license in /home/ugrads/majors/sungmin/.local/lib/python3.11/site-packages (from autorom[accept-rom-license]) (0.6.1)\n",
      "Requirement already satisfied: charset-normalizer<4,>=2 in /home/ugrads/majors/sungmin/.local/lib/python3.11/site-packages (from requests->autorom[accept-rom-license]) (3.1.0)\n",
      "Requirement already satisfied: idna<4,>=2.5 in /home/ugrads/majors/sungmin/.local/lib/python3.11/site-packages (from requests->autorom[accept-rom-license]) (3.4)\n",
      "Requirement already satisfied: urllib3<1.27,>=1.21.1 in /home/ugrads/majors/sungmin/.local/lib/python3.11/site-packages (from requests->autorom[accept-rom-license]) (1.26.15)\n",
      "Requirement already satisfied: certifi>=2017.4.17 in /home/ugrads/majors/sungmin/.local/lib/python3.11/site-packages (from requests->autorom[accept-rom-license]) (2022.12.7)\n",
      "Note: you may need to restart the kernel to use updated packages.\n",
      "Defaulting to user installation because normal site-packages is not writeable\n",
      "Requirement already satisfied: numpy in /home/ugrads/majors/sungmin/.local/lib/python3.11/site-packages (1.23.5)\n",
      "Note: you may need to restart the kernel to use updated packages.\n"
     ]
    }
   ],
   "source": [
    "%pip install gym[atari]\n",
    "%pip install autorom[accept-rom-license]\n",
    "%pip install numpy"
   ]
  },
  {
   "cell_type": "code",
   "execution_count": null,
   "metadata": {},
   "outputs": [],
   "source": []
  }
 ],
 "metadata": {
  "kernelspec": {
   "display_name": "Python 3",
   "language": "python",
   "name": "python3"
  },
  "language_info": {
   "codemirror_mode": {
    "name": "ipython",
    "version": 3
   },
   "file_extension": ".py",
   "mimetype": "text/x-python",
   "name": "python",
   "nbconvert_exporter": "python",
   "pygments_lexer": "ipython3",
   "version": "3.11.2"
  },
  "orig_nbformat": 4
 },
 "nbformat": 4,
 "nbformat_minor": 2
}
